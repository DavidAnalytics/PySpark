{
  "nbformat": 4,
  "nbformat_minor": 0,
  "metadata": {
    "colab": {
      "provenance": []
    },
    "kernelspec": {
      "name": "python3",
      "display_name": "Python 3"
    },
    "language_info": {
      "name": "python"
    }
  },
  "cells": [
    {
      "cell_type": "code",
      "execution_count": 1,
      "metadata": {
        "colab": {
          "base_uri": "https://localhost:8080/"
        },
        "id": "JNLCY0Azrv9n",
        "outputId": "98dd2950-1c2b-4afd-b005-aa76a506d20d"
      },
      "outputs": [
        {
          "output_type": "stream",
          "name": "stdout",
          "text": [
            "Get:1 https://cloud.r-project.org/bin/linux/ubuntu jammy-cran40/ InRelease [3,632 B]\n",
            "Get:2 https://developer.download.nvidia.com/compute/cuda/repos/ubuntu2204/x86_64  InRelease [1,581 B]\n",
            "Hit:3 http://archive.ubuntu.com/ubuntu jammy InRelease\n",
            "Get:4 http://security.ubuntu.com/ubuntu jammy-security InRelease [129 kB]\n",
            "Get:5 https://r2u.stat.illinois.edu/ubuntu jammy InRelease [6,555 B]\n",
            "Get:6 http://archive.ubuntu.com/ubuntu jammy-updates InRelease [128 kB]\n",
            "Get:7 https://developer.download.nvidia.com/compute/cuda/repos/ubuntu2204/x86_64  Packages [1,369 kB]\n",
            "Get:8 https://r2u.stat.illinois.edu/ubuntu jammy/main amd64 Packages [2,668 kB]\n",
            "Hit:9 https://ppa.launchpadcontent.net/deadsnakes/ppa/ubuntu jammy InRelease\n",
            "Hit:10 https://ppa.launchpadcontent.net/graphics-drivers/ppa/ubuntu jammy InRelease\n",
            "Get:11 http://security.ubuntu.com/ubuntu jammy-security/main amd64 Packages [2,682 kB]\n",
            "Get:12 http://archive.ubuntu.com/ubuntu jammy-backports InRelease [127 kB]\n",
            "Hit:13 https://ppa.launchpadcontent.net/ubuntugis/ppa/ubuntu jammy InRelease\n",
            "Get:14 https://r2u.stat.illinois.edu/ubuntu jammy/main all Packages [8,730 kB]\n",
            "Get:15 http://archive.ubuntu.com/ubuntu jammy-updates/universe amd64 Packages [1,533 kB]\n",
            "Get:16 http://archive.ubuntu.com/ubuntu jammy-updates/restricted amd64 Packages [3,934 kB]\n",
            "Get:17 http://security.ubuntu.com/ubuntu jammy-security/restricted amd64 Packages [3,774 kB]\n",
            "Get:18 http://security.ubuntu.com/ubuntu jammy-security/multiverse amd64 Packages [56.4 kB]\n",
            "Get:19 http://archive.ubuntu.com/ubuntu jammy-updates/multiverse amd64 Packages [64.2 kB]\n",
            "Get:20 http://archive.ubuntu.com/ubuntu jammy-updates/main amd64 Packages [2,988 kB]\n",
            "Fetched 28.2 MB in 3s (11.0 MB/s)\n",
            "Reading package lists... Done\n",
            "W: Skipping acquire of configured file 'main/source/Sources' as repository 'https://r2u.stat.illinois.edu/ubuntu jammy InRelease' does not seem to provide it (sources.list entry misspelt?)\n",
            "Reading package lists... Done\n",
            "Building dependency tree... Done\n",
            "Reading state information... Done\n",
            "The following additional packages will be installed:\n",
            "  fonts-dejavu-core fonts-dejavu-extra libatk-wrapper-java libatk-wrapper-java-jni libfontenc1\n",
            "  libice-dev libsm-dev libxkbfile1 libxt-dev libxtst6 libxxf86dga1 openjdk-11-jre x11-utils\n",
            "Suggested packages:\n",
            "  libice-doc libsm-doc libxt-doc openjdk-11-demo openjdk-11-source visualvm mesa-utils\n",
            "The following NEW packages will be installed:\n",
            "  fonts-dejavu-core fonts-dejavu-extra libatk-wrapper-java libatk-wrapper-java-jni libfontenc1\n",
            "  libice-dev libsm-dev libxkbfile1 libxt-dev libxtst6 libxxf86dga1 openjdk-11-jdk openjdk-11-jre\n",
            "  x11-utils\n",
            "0 upgraded, 14 newly installed, 0 to remove and 32 not upgraded.\n",
            "Need to get 5,522 kB of archives.\n",
            "After this operation, 15.8 MB of additional disk space will be used.\n",
            "Get:1 http://archive.ubuntu.com/ubuntu jammy/main amd64 fonts-dejavu-core all 2.37-2build1 [1,041 kB]\n",
            "Get:2 http://archive.ubuntu.com/ubuntu jammy/main amd64 fonts-dejavu-extra all 2.37-2build1 [2,041 kB]\n",
            "Get:3 http://archive.ubuntu.com/ubuntu jammy/main amd64 libfontenc1 amd64 1:1.1.4-1build3 [14.7 kB]\n",
            "Get:4 http://archive.ubuntu.com/ubuntu jammy/main amd64 libxkbfile1 amd64 1:1.1.0-1build3 [71.8 kB]\n",
            "Get:5 http://archive.ubuntu.com/ubuntu jammy/main amd64 libxtst6 amd64 2:1.2.3-1build4 [13.4 kB]\n",
            "Get:6 http://archive.ubuntu.com/ubuntu jammy/main amd64 libxxf86dga1 amd64 2:1.1.5-0ubuntu3 [12.6 kB]\n",
            "Get:7 http://archive.ubuntu.com/ubuntu jammy/main amd64 x11-utils amd64 7.7+5build2 [206 kB]\n",
            "Get:8 http://archive.ubuntu.com/ubuntu jammy/main amd64 libatk-wrapper-java all 0.38.0-5build1 [53.1 kB]\n",
            "Get:9 http://archive.ubuntu.com/ubuntu jammy/main amd64 libatk-wrapper-java-jni amd64 0.38.0-5build1 [49.0 kB]\n",
            "Get:10 http://archive.ubuntu.com/ubuntu jammy/main amd64 libice-dev amd64 2:1.0.10-1build2 [51.4 kB]\n",
            "Get:11 http://archive.ubuntu.com/ubuntu jammy/main amd64 libsm-dev amd64 2:1.2.3-1build2 [18.1 kB]\n",
            "Get:12 http://archive.ubuntu.com/ubuntu jammy/main amd64 libxt-dev amd64 1:1.2.1-1 [396 kB]\n",
            "Get:13 http://archive.ubuntu.com/ubuntu jammy-updates/main amd64 openjdk-11-jre amd64 11.0.26+4-1ubuntu1~22.04 [214 kB]\n",
            "Get:14 http://archive.ubuntu.com/ubuntu jammy-updates/main amd64 openjdk-11-jdk amd64 11.0.26+4-1ubuntu1~22.04 [1,341 kB]\n",
            "Fetched 5,522 kB in 2s (2,711 kB/s)\n",
            "Selecting previously unselected package fonts-dejavu-core.\n",
            "(Reading database ... 124947 files and directories currently installed.)\n",
            "Preparing to unpack .../00-fonts-dejavu-core_2.37-2build1_all.deb ...\n",
            "Unpacking fonts-dejavu-core (2.37-2build1) ...\n",
            "Selecting previously unselected package fonts-dejavu-extra.\n",
            "Preparing to unpack .../01-fonts-dejavu-extra_2.37-2build1_all.deb ...\n",
            "Unpacking fonts-dejavu-extra (2.37-2build1) ...\n",
            "Selecting previously unselected package libfontenc1:amd64.\n",
            "Preparing to unpack .../02-libfontenc1_1%3a1.1.4-1build3_amd64.deb ...\n",
            "Unpacking libfontenc1:amd64 (1:1.1.4-1build3) ...\n",
            "Selecting previously unselected package libxkbfile1:amd64.\n",
            "Preparing to unpack .../03-libxkbfile1_1%3a1.1.0-1build3_amd64.deb ...\n",
            "Unpacking libxkbfile1:amd64 (1:1.1.0-1build3) ...\n",
            "Selecting previously unselected package libxtst6:amd64.\n",
            "Preparing to unpack .../04-libxtst6_2%3a1.2.3-1build4_amd64.deb ...\n",
            "Unpacking libxtst6:amd64 (2:1.2.3-1build4) ...\n",
            "Selecting previously unselected package libxxf86dga1:amd64.\n",
            "Preparing to unpack .../05-libxxf86dga1_2%3a1.1.5-0ubuntu3_amd64.deb ...\n",
            "Unpacking libxxf86dga1:amd64 (2:1.1.5-0ubuntu3) ...\n",
            "Selecting previously unselected package x11-utils.\n",
            "Preparing to unpack .../06-x11-utils_7.7+5build2_amd64.deb ...\n",
            "Unpacking x11-utils (7.7+5build2) ...\n",
            "Selecting previously unselected package libatk-wrapper-java.\n",
            "Preparing to unpack .../07-libatk-wrapper-java_0.38.0-5build1_all.deb ...\n",
            "Unpacking libatk-wrapper-java (0.38.0-5build1) ...\n",
            "Selecting previously unselected package libatk-wrapper-java-jni:amd64.\n",
            "Preparing to unpack .../08-libatk-wrapper-java-jni_0.38.0-5build1_amd64.deb ...\n",
            "Unpacking libatk-wrapper-java-jni:amd64 (0.38.0-5build1) ...\n",
            "Selecting previously unselected package libice-dev:amd64.\n",
            "Preparing to unpack .../09-libice-dev_2%3a1.0.10-1build2_amd64.deb ...\n",
            "Unpacking libice-dev:amd64 (2:1.0.10-1build2) ...\n",
            "Selecting previously unselected package libsm-dev:amd64.\n",
            "Preparing to unpack .../10-libsm-dev_2%3a1.2.3-1build2_amd64.deb ...\n",
            "Unpacking libsm-dev:amd64 (2:1.2.3-1build2) ...\n",
            "Selecting previously unselected package libxt-dev:amd64.\n",
            "Preparing to unpack .../11-libxt-dev_1%3a1.2.1-1_amd64.deb ...\n",
            "Unpacking libxt-dev:amd64 (1:1.2.1-1) ...\n",
            "Selecting previously unselected package openjdk-11-jre:amd64.\n",
            "Preparing to unpack .../12-openjdk-11-jre_11.0.26+4-1ubuntu1~22.04_amd64.deb ...\n",
            "Unpacking openjdk-11-jre:amd64 (11.0.26+4-1ubuntu1~22.04) ...\n",
            "Selecting previously unselected package openjdk-11-jdk:amd64.\n",
            "Preparing to unpack .../13-openjdk-11-jdk_11.0.26+4-1ubuntu1~22.04_amd64.deb ...\n",
            "Unpacking openjdk-11-jdk:amd64 (11.0.26+4-1ubuntu1~22.04) ...\n",
            "Setting up libice-dev:amd64 (2:1.0.10-1build2) ...\n",
            "Setting up libsm-dev:amd64 (2:1.2.3-1build2) ...\n",
            "Setting up libxtst6:amd64 (2:1.2.3-1build4) ...\n",
            "Setting up libxxf86dga1:amd64 (2:1.1.5-0ubuntu3) ...\n",
            "Setting up openjdk-11-jre:amd64 (11.0.26+4-1ubuntu1~22.04) ...\n",
            "Setting up libfontenc1:amd64 (1:1.1.4-1build3) ...\n",
            "Setting up libxt-dev:amd64 (1:1.2.1-1) ...\n",
            "Setting up fonts-dejavu-core (2.37-2build1) ...\n",
            "Setting up fonts-dejavu-extra (2.37-2build1) ...\n",
            "Setting up openjdk-11-jdk:amd64 (11.0.26+4-1ubuntu1~22.04) ...\n",
            "update-alternatives: using /usr/lib/jvm/java-11-openjdk-amd64/bin/jconsole to provide /usr/bin/jconsole (jconsole) in auto mode\n",
            "Setting up libxkbfile1:amd64 (1:1.1.0-1build3) ...\n",
            "Setting up x11-utils (7.7+5build2) ...\n",
            "Setting up libatk-wrapper-java (0.38.0-5build1) ...\n",
            "Setting up libatk-wrapper-java-jni:amd64 (0.38.0-5build1) ...\n",
            "Processing triggers for fontconfig (2.13.1-4.2ubuntu5) ...\n",
            "Processing triggers for hicolor-icon-theme (0.17-2) ...\n",
            "Processing triggers for libc-bin (2.35-0ubuntu3.8) ...\n",
            "/sbin/ldconfig.real: /usr/local/lib/libtbbbind_2_5.so.3 is not a symbolic link\n",
            "\n",
            "/sbin/ldconfig.real: /usr/local/lib/libtcm.so.1 is not a symbolic link\n",
            "\n",
            "/sbin/ldconfig.real: /usr/local/lib/libtbbbind.so.3 is not a symbolic link\n",
            "\n",
            "/sbin/ldconfig.real: /usr/local/lib/libtbbbind_2_0.so.3 is not a symbolic link\n",
            "\n",
            "/sbin/ldconfig.real: /usr/local/lib/libur_adapter_opencl.so.0 is not a symbolic link\n",
            "\n",
            "/sbin/ldconfig.real: /usr/local/lib/libtbbmalloc.so.2 is not a symbolic link\n",
            "\n",
            "/sbin/ldconfig.real: /usr/local/lib/libtbbmalloc_proxy.so.2 is not a symbolic link\n",
            "\n",
            "/sbin/ldconfig.real: /usr/local/lib/libhwloc.so.15 is not a symbolic link\n",
            "\n",
            "/sbin/ldconfig.real: /usr/local/lib/libtbb.so.12 is not a symbolic link\n",
            "\n",
            "/sbin/ldconfig.real: /usr/local/lib/libur_loader.so.0 is not a symbolic link\n",
            "\n",
            "/sbin/ldconfig.real: /usr/local/lib/libumf.so.0 is not a symbolic link\n",
            "\n",
            "/sbin/ldconfig.real: /usr/local/lib/libur_adapter_level_zero.so.0 is not a symbolic link\n",
            "\n",
            "/sbin/ldconfig.real: /usr/local/lib/libtcm_debug.so.1 is not a symbolic link\n",
            "\n",
            "Processing triggers for man-db (2.10.2-1) ...\n",
            "Processing triggers for mailcap (3.70+nmu1ubuntu1) ...\n",
            "Requirement already satisfied: pyspark in /usr/local/lib/python3.11/dist-packages (3.5.5)\n",
            "Requirement already satisfied: py4j==0.10.9.7 in /usr/local/lib/python3.11/dist-packages (from pyspark) (0.10.9.7)\n"
          ]
        }
      ],
      "source": [
        "!apt-get update\n",
        "!apt-get install openjdk-11-jdk -y\n",
        "!pip install pyspark"
      ]
    },
    {
      "cell_type": "code",
      "source": [
        "import os\n",
        "\n",
        "os.environ[\"JAVA_HOME\"] = \"/usr/lib/jvm/java-11-openjdk-amd64\"\n",
        "os.environ[\"SPARK_HOME\"] = \"/usr/local/lib/python3.11/dist-packages/pyspark\""
      ],
      "metadata": {
        "id": "Ll8WO4LTufHi"
      },
      "execution_count": 2,
      "outputs": []
    },
    {
      "cell_type": "markdown",
      "source": [
        "First thing, we need to get or create a spark session\n"
      ],
      "metadata": {
        "id": "xRp9OlLlwRf2"
      }
    },
    {
      "cell_type": "markdown",
      "source": [
        "The Spark Session is the entry point for high-level Spark functionality. It is initiated using the Sparksession.builder"
      ],
      "metadata": {
        "id": "sgUj6jWqvfQn"
      }
    },
    {
      "cell_type": "code",
      "source": [
        "from pyspark.sql import SparkSession\n",
        "from pyspark.sql import functions as F\n",
        "from pyspark.sql import DataFrame\n",
        "from pyspark.sql.types import DateType"
      ],
      "metadata": {
        "id": "EEmZPCvSvIz1"
      },
      "execution_count": 3,
      "outputs": []
    },
    {
      "cell_type": "code",
      "source": [
        "spk = SparkSession.builder.master(\"local[*]\").appName('globalSales').getOrCreate()"
      ],
      "metadata": {
        "id": "tOTFkYMbxpga"
      },
      "execution_count": 4,
      "outputs": []
    },
    {
      "cell_type": "code",
      "source": [
        "print(spk.version)"
      ],
      "metadata": {
        "colab": {
          "base_uri": "https://localhost:8080/"
        },
        "id": "Jvcd-Q2hyOYb",
        "outputId": "4ef8c01a-8908-462c-debf-56e5388e5614"
      },
      "execution_count": 5,
      "outputs": [
        {
          "output_type": "stream",
          "name": "stdout",
          "text": [
            "3.5.5\n"
          ]
        }
      ]
    },
    {
      "cell_type": "code",
      "source": [],
      "metadata": {
        "id": "wVoZ7tDByfCq"
      },
      "execution_count": null,
      "outputs": []
    },
    {
      "cell_type": "markdown",
      "source": [
        "Then we read in the csv file using the spark.read.csv"
      ],
      "metadata": {
        "id": "8p9WViVJwfPN"
      }
    },
    {
      "cell_type": "code",
      "source": [
        "global_df = spk.read.csv(\"global_sales_records.csv\", header=True,inferSchema=True)\n",
        "\n",
        "global_df.show(5)"
      ],
      "metadata": {
        "colab": {
          "base_uri": "https://localhost:8080/"
        },
        "id": "E3vKwL4qwmjV",
        "outputId": "13b08a76-dcbb-45b6-e08d-925654328ab1"
      },
      "execution_count": 6,
      "outputs": [
        {
          "output_type": "stream",
          "name": "stdout",
          "text": [
            "+--------------------+--------------------+-------------+-------------+--------------+----------+---------+----------+----------+----------+---------+-------------+----------+------------+\n",
            "|              Region|             Country|    Item Type|Sales Channel|Order Priority|Order Date| Order ID| Ship Date|Units Sold|Unit Price|Unit Cost|Total Revenue|Total Cost|Total Profit|\n",
            "+--------------------+--------------------+-------------+-------------+--------------+----------+---------+----------+----------+----------+---------+-------------+----------+------------+\n",
            "|Middle East and N...|          Azerbaijan|       Snacks|       Online|             C| 10/8/2014|535113847|10/23/2014|       934|    152.58|    97.44|    142509.72|  91008.96|    51500.76|\n",
            "|Central America a...|              Panama|    Cosmetics|      Offline|             L| 2/22/2015|874708545| 2/27/2015|      4551|     437.2|   263.33|    1989697.2|1198414.83|   791282.37|\n",
            "|  Sub-Saharan Africa|Sao Tome and Prin...|       Fruits|      Offline|             M| 12/9/2015|854349935| 1/18/2016|      9986|      9.33|     6.92|     93169.38|  69103.12|    24066.26|\n",
            "|  Sub-Saharan Africa|Sao Tome and Prin...|Personal Care|       Online|             M| 9/17/2014|892836844|10/12/2014|      9118|     81.73|    56.67|    745214.14| 516717.06|   228497.08|\n",
            "|Central America a...|              Belize|    Household|      Offline|             H|  2/4/2010|129280602|  3/5/2010|      5858|    668.27|   502.54|   3914725.66|2943879.32|   970846.34|\n",
            "+--------------------+--------------------+-------------+-------------+--------------+----------+---------+----------+----------+----------+---------+-------------+----------+------------+\n",
            "only showing top 5 rows\n",
            "\n"
          ]
        }
      ]
    },
    {
      "cell_type": "code",
      "source": [
        "global_df.printSchema()"
      ],
      "metadata": {
        "colab": {
          "base_uri": "https://localhost:8080/"
        },
        "id": "dUk2iZp14WHz",
        "outputId": "d111ab9e-476f-4769-c46b-1f3c9f611730"
      },
      "execution_count": 13,
      "outputs": [
        {
          "output_type": "stream",
          "name": "stdout",
          "text": [
            "root\n",
            " |-- Region: string (nullable = true)\n",
            " |-- Country: string (nullable = true)\n",
            " |-- Item_Type: string (nullable = true)\n",
            " |-- Sales_Channel: string (nullable = true)\n",
            " |-- Order_Priority: string (nullable = true)\n",
            " |-- Order_Date: date (nullable = true)\n",
            " |-- Order_ID: integer (nullable = true)\n",
            " |-- Ship_Date: date (nullable = true)\n",
            " |-- Units_Sold: integer (nullable = true)\n",
            " |-- Unit_Price: double (nullable = true)\n",
            " |-- Unit_Cost: double (nullable = true)\n",
            " |-- Total_Revenue: double (nullable = true)\n",
            " |-- Total_Cost: double (nullable = true)\n",
            " |-- Total_Profit: double (nullable = true)\n",
            "\n"
          ]
        }
      ]
    },
    {
      "cell_type": "code",
      "source": [
        "# Rename the columns, to remove the spaces\n",
        "def rename_columns_remove_spaces(df: DataFrame) -> DataFrame:\n",
        "    \"\"\"Renames columns in a PySpark DataFrame to replace spaces with underscores.\"\"\"\n",
        "    for col_name in df.columns:\n",
        "        new_col_name = col_name.replace(\" \", \"_\")\n",
        "        df = df.withColumnRenamed(col_name, new_col_name)\n",
        "    return df\n",
        "\n",
        "global_df = rename_columns_remove_spaces(global_df)"
      ],
      "metadata": {
        "id": "wfS5r1eZ41xw"
      },
      "execution_count": 8,
      "outputs": []
    },
    {
      "cell_type": "code",
      "source": [
        "global_df.show(50)"
      ],
      "metadata": {
        "colab": {
          "base_uri": "https://localhost:8080/"
        },
        "id": "3CO9kp0N5Xby",
        "outputId": "90e17b84-4e62-4728-ad8c-e57372cb2d7a"
      },
      "execution_count": 37,
      "outputs": [
        {
          "output_type": "stream",
          "name": "stdout",
          "text": [
            "+--------------------+--------------------+---------------+-------------+--------------+----------+---------+----------+----------+----------+---------+-------------+----------+------------+\n",
            "|              Region|             Country|      Item_Type|Sales_Channel|Order_Priority|Order_Date| Order_ID| Ship_Date|Units_Sold|Unit_Price|Unit_Cost|Total_Revenue|Total_Cost|Total_Profit|\n",
            "+--------------------+--------------------+---------------+-------------+--------------+----------+---------+----------+----------+----------+---------+-------------+----------+------------+\n",
            "|Middle East and N...|          Azerbaijan|         Snacks|       Online|             C|2014-10-08|535113847|2014-10-23|       934|    152.58|    97.44|    142509.72|  91008.96|    51500.76|\n",
            "|Central America a...|              Panama|      Cosmetics|      Offline|             L|2015-02-22|874708545|2015-02-27|      4551|     437.2|   263.33|    1989697.2|1198414.83|   791282.37|\n",
            "|  Sub-Saharan Africa|Sao Tome and Prin...|         Fruits|      Offline|             M|2015-12-09|854349935|2016-01-18|      9986|      9.33|     6.92|     93169.38|  69103.12|    24066.26|\n",
            "|  Sub-Saharan Africa|Sao Tome and Prin...|  Personal Care|       Online|             M|2014-09-17|892836844|2014-10-12|      9118|     81.73|    56.67|    745214.14| 516717.06|   228497.08|\n",
            "|Central America a...|              Belize|      Household|      Offline|             H|2010-02-04|129280602|2010-03-05|      5858|    668.27|   502.54|   3914725.66|2943879.32|   970846.34|\n",
            "|              Europe|             Denmark|        Clothes|       Online|             C|2013-02-20|473105037|2013-02-28|      1149|    109.28|    35.84|    125562.72|  41180.16|    84382.56|\n",
            "|              Europe|             Germany|      Cosmetics|      Offline|             M|2013-03-31|754046475|2013-05-03|      7964|     437.2|   263.33|    3481860.8|2097160.12|  1384700.68|\n",
            "|Middle East and N...|              Turkey|         Fruits|       Online|             C|2012-03-26|772153747|2012-04-07|      6307|      9.33|     6.92|     58844.31|  43644.44|    15199.87|\n",
            "|              Europe|      United Kingdom|         Snacks|       Online|             H|2012-12-29|847788178|2013-01-15|      8217|    152.58|    97.44|   1253749.86| 800664.48|   453085.38|\n",
            "|                Asia|          Kazakhstan|      Cosmetics|       Online|             H|2015-09-11|471623599|2015-09-18|      2758|     437.2|   263.33|    1205797.6| 726264.14|   479533.46|\n",
            "|Central America a...|               Haiti|      Cosmetics|       Online|             C|2013-12-27|554646337|2014-01-01|      1031|     437.2|   263.33|     450753.2| 271493.23|   179259.97|\n",
            "|              Europe|               Italy|        Clothes|       Online|             M|2013-12-17|278155219|2014-01-10|      1165|    109.28|    35.84|     127311.2|   41753.6|     85557.6|\n",
            "|              Europe|               Malta|      Household|      Offline|             L|2015-03-10|243761575|2015-04-17|      3322|    668.27|   502.54|   2219992.94|1669437.88|   550555.06|\n",
            "|Middle East and N...|              Jordan|      Household|      Offline|             L|2014-07-09|223389232|2014-07-18|      4693|    668.27|   502.54|   3136191.11|2358420.22|   777770.89|\n",
            "|                Asia|            Cambodia|     Vegetables|      Offline|             H|2017-06-14|509274518|2017-06-29|      4502|    154.06|    90.93|    693578.12| 409366.86|   284211.26|\n",
            "|Central America a...|Saint Kitts and N...|Office Supplies|       Online|             H|2011-08-10|563966262|2011-08-29|      9004|    651.21|   524.96|   5863494.84|4726739.84|   1136755.0|\n",
            "|  Sub-Saharan Africa|            Cameroon|         Fruits|       Online|             H|2015-12-18|370325791|2016-02-06|      6486|      9.33|     6.92|     60514.38|  44883.12|    15631.26|\n",
            "|Middle East and N...|             Bahrain|     Vegetables|      Offline|             L|2016-06-26|881526935|2016-07-19|      2264|    154.06|    90.93|    348791.84| 205865.52|   142926.32|\n",
            "|Australia and Oce...|     Solomon Islands|      Beverages|      Offline|             C|2015-05-11|871056020|2015-05-30|      3688|     47.45|    31.79|     174995.6| 117241.52|    57754.08|\n",
            "|              Europe|              Monaco|Office Supplies|       Online|             M|2012-01-13|982711875|2012-01-17|      5137|    651.21|   524.96|   3345265.77|2696719.52|   648546.25|\n",
            "|  Sub-Saharan Africa|             Comoros|      Beverages|      Offline|             L|2014-08-10|580605828|2014-08-20|      3022|     47.45|    31.79|     143393.9|  96069.38|    47324.52|\n",
            "|              Europe|             Iceland|           Meat|       Online|             L|2013-04-22|899161708|2013-04-28|       786|    421.89|   364.69|    331605.54| 286646.34|     44959.2|\n",
            "|  Sub-Saharan Africa|              Zambia|      Cosmetics|      Offline|             M|2014-07-26|993115842|2014-08-20|      3902|     437.2|   263.33|    1705954.4|1027513.66|   678440.74|\n",
            "|Middle East and N...|               Egypt|         Cereal|       Online|             C|2014-07-14|887517058|2014-08-20|      4875|     205.7|   117.11|    1002787.5| 570911.25|   431876.25|\n",
            "|  Sub-Saharan Africa|                Togo|        Clothes|      Offline|             L|2010-06-01|227726686|2010-06-28|      8242|    109.28|    35.84|    900685.76| 295393.28|   605292.48|\n",
            "|Middle East and N...|        Saudi Arabia|     Vegetables|       Online|             H|2011-11-04|529418551|2011-11-20|      5569|    154.06|    90.93|    857960.14| 506389.17|   351570.97|\n",
            "|Middle East and N...|             Morocco|     Vegetables|      Offline|             L|2014-05-15|228578984|2014-06-26|       456|    154.06|    90.93|     70251.36|  41464.08|    28787.28|\n",
            "|Middle East and N...|            Tunisia |Office Supplies|      Offline|             L|2010-10-28|531506812|2010-11-23|      3532|    651.21|   524.96|   2300073.72|1854158.72|    445915.0|\n",
            "|  Sub-Saharan Africa|              Angola|      Cosmetics|      Offline|             L|2010-04-01|464813363|2010-04-08|      7458|     437.2|   263.33|    3260637.6|1963915.14|  1296722.46|\n",
            "|                Asia|             Vietnam|         Cereal|      Offline|             H|2011-05-22|925422465|2011-06-02|      1927|     205.7|   117.11|     396383.9| 225670.97|   170712.93|\n",
            "|              Europe|             Belarus|           Meat|       Online|             L|2014-01-20|630570447|2014-02-15|      8663|    421.89|   364.69|   3654833.07|3159309.47|    495523.6|\n",
            "|                Asia|             Myanmar|         Snacks|      Offline|             C|2015-05-05|167806136|2015-06-03|      6420|    152.58|    97.44|     979563.6|  625564.8|    353998.8|\n",
            "|              Europe|           Lithuania|         Fruits|      Offline|             H|2013-05-25|644990861|2013-06-04|      5984|      9.33|     6.92|     55830.72|  41409.28|    14421.44|\n",
            "|              Europe|         Switzerland|      Baby Food|      Offline|             M|2011-03-26|540298449|2011-05-15|      5173|    255.28|   159.42|   1320563.44| 824679.66|   495883.78|\n",
            "|Central America a...|Antigua and Barbuda |      Baby Food|      Offline|             M|2012-11-30|652215230|2013-01-06|      3835|    255.28|   159.42|     978998.8|  611375.7|    367623.1|\n",
            "|                Asia|            Mongolia|           Meat|      Offline|             M|2012-03-23|949540030|2012-03-26|      8851|    421.89|   364.69|   3734148.39|3227871.19|    506277.2|\n",
            "|       North America|           Greenland|         Fruits|       Online|             L|2011-07-30|121384179|2011-09-12|      9131|      9.33|     6.92|     85192.23|  63186.52|    22005.71|\n",
            "|  Sub-Saharan Africa|             Eritrea|      Cosmetics|      Offline|             H|2010-08-30|527171504|2010-10-07|       618|     437.2|   263.33|     270189.6| 162737.94|   107451.66|\n",
            "|              Europe|           Lithuania|      Baby Food|       Online|             C|2010-03-28|546638333|2010-04-28|      1285|    255.28|   159.42|     328034.8|  204854.7|    123180.1|\n",
            "|Central America a...|Saint Vincent and...|  Personal Care|      Offline|             L|2015-12-01|429833495|2015-12-08|      6138|     81.73|    56.67|    501658.74| 347840.46|   153818.28|\n",
            "|              Europe|            Portugal|     Vegetables|      Offline|             L|2011-08-26|947118318|2011-09-08|      2212|    154.06|    90.93|    340780.72| 201137.16|   139643.56|\n",
            "|Middle East and N...|             Somalia|      Beverages|      Offline|             M|2016-07-17|239166629|2016-08-20|      3575|     47.45|    31.79|    169633.75| 113649.25|     55984.5|\n",
            "|Middle East and N...|              Turkey|        Clothes|       Online|             M|2012-11-20|566964757|2012-12-07|      6326|    109.28|    35.84|    691305.28| 226723.84|   464581.44|\n",
            "|Middle East and N...|              Israel|     Vegetables|      Offline|             H|2010-07-23|661811530|2010-09-10|      3594|    154.06|    90.93|    553691.64| 326802.42|   226889.22|\n",
            "|Central America a...|            Dominica|        Clothes|       Online|             H|2012-11-29|675318276|2012-12-28|       540|    109.28|    35.84|      59011.2|   19353.6|     39657.6|\n",
            "|              Europe|          Luxembourg|           Meat|      Offline|             C|2013-01-07|829408824|2013-02-23|      9357|    421.89|   364.69|   3947624.73|3412404.33|    535220.4|\n",
            "|              Europe|         Switzerland|           Meat|       Online|             L|2012-07-31|966319501|2012-08-01|      4269|    421.89|   364.69|   1801048.41|1556861.61|    244186.8|\n",
            "|                Asia|           Singapore|      Baby Food|       Online|             H|2010-08-01|998599135|2010-09-05|      6530|    255.28|   159.42|    1666978.4| 1041012.6|    625965.8|\n",
            "|              Europe|              Cyprus|         Snacks|      Offline|             C|2014-08-25|459109055|2014-10-13|      9427|    152.58|    97.44|   1438371.66| 918566.88|   519804.78|\n",
            "|  Sub-Saharan Africa|            Botswana|      Baby Food|      Offline|             H|2014-07-11|751023089|2014-08-13|      3276|    255.28|   159.42|    836297.28| 522259.92|   314037.36|\n",
            "+--------------------+--------------------+---------------+-------------+--------------+----------+---------+----------+----------+----------+---------+-------------+----------+------------+\n",
            "only showing top 50 rows\n",
            "\n"
          ]
        }
      ]
    },
    {
      "cell_type": "code",
      "source": [
        "# Data Transformation\n",
        "# Transform the Order and Ship Date\n",
        "\n",
        "global_df = global_df.withColumn(\"Order_Date\", F.to_date(F.col(\"Order_Date\"), \"M/d/yyy\"))\n",
        "\n"
      ],
      "metadata": {
        "id": "TiWQNYKN6UHJ"
      },
      "execution_count": 10,
      "outputs": []
    },
    {
      "cell_type": "code",
      "source": [
        "# Assignment Transform the Ship Date\n",
        "\n",
        "global_df = global_df.withColumn(\"Ship_Date\", F.to_date(F.col(\"Ship_Date\"), \"M/d/yyy\"))"
      ],
      "metadata": {
        "id": "V1G0SeDu7KOa"
      },
      "execution_count": 12,
      "outputs": []
    },
    {
      "cell_type": "markdown",
      "source": [
        "## Top Performing Regions By Revenue"
      ],
      "metadata": {
        "id": "rwnCKwk57Vpq"
      }
    },
    {
      "cell_type": "code",
      "source": [
        "top_region_df = global_df.groupBy(\"Region\").agg(F.sum(\"Total_Revenue\").alias(\"Revenue_Generated\"))"
      ],
      "metadata": {
        "id": "01fUAHUH7hYo"
      },
      "execution_count": 15,
      "outputs": []
    },
    {
      "cell_type": "code",
      "source": [
        "# Sort by total revenue in descending order and take the top 1 region\n",
        "top_region = top_region_df.orderBy(F.col(\"Revenue_Generated\").asc()).limit(3)\n",
        "\n",
        "top_region = top_region.withColumn(\"Revenue_Generated\", F.format_number(F.col(\"Revenue_Generated\"), 2))\n"
      ],
      "metadata": {
        "id": "YhXPz6dr9YIF"
      },
      "execution_count": 23,
      "outputs": []
    },
    {
      "cell_type": "code",
      "source": [
        "top_region.show()"
      ],
      "metadata": {
        "colab": {
          "base_uri": "https://localhost:8080/"
        },
        "id": "k4gIdTRC9lcW",
        "outputId": "111e676d-c21a-45c4-bbb3-7899c0b86e1a"
      },
      "execution_count": 24,
      "outputs": [
        {
          "output_type": "stream",
          "name": "stdout",
          "text": [
            "+--------------------+-----------------+\n",
            "|              Region|Revenue_Generated|\n",
            "+--------------------+-----------------+\n",
            "|       North America| 2,937,002,333.49|\n",
            "|Australia and Oce...|10,701,522,223.73|\n",
            "|Central America a...|14,553,730,165.29|\n",
            "+--------------------+-----------------+\n",
            "\n"
          ]
        }
      ]
    },
    {
      "cell_type": "code",
      "source": [
        "# Group by 'region' and calculate the average revenue for each region\n",
        "average_revenue_df = global_df.groupBy(\"Region\").agg(F.avg(\"Total_Revenue\").alias(\"average_revenue\"))\n",
        "\n",
        "# Sort by average revenue in descending order\n",
        "top_avg_region = average_revenue_df.orderBy(F.col(\"average_revenue\").desc()).limit(3)"
      ],
      "metadata": {
        "id": "EKR1ELQo98pF"
      },
      "execution_count": 25,
      "outputs": []
    },
    {
      "cell_type": "code",
      "source": [
        "top_avg_region.show()"
      ],
      "metadata": {
        "colab": {
          "base_uri": "https://localhost:8080/"
        },
        "id": "wwuSlT8j_bG3",
        "outputId": "5227cc35-0684-4387-bd4d-86d10c0f836d"
      },
      "execution_count": 26,
      "outputs": [
        {
          "output_type": "stream",
          "name": "stdout",
          "text": [
            "+--------------------+------------------+\n",
            "|              Region|   average_revenue|\n",
            "+--------------------+------------------+\n",
            "|       North America|1376934.9899156122|\n",
            "|Central America a...|1356232.4261755676|\n",
            "|Middle East and N...|1345104.3556852147|\n",
            "+--------------------+------------------+\n",
            "\n"
          ]
        }
      ]
    },
    {
      "cell_type": "markdown",
      "source": [
        "## Underperfroming Countries By Total_Profit"
      ],
      "metadata": {
        "id": "TUfTAyM5FyDO"
      }
    },
    {
      "cell_type": "code",
      "source": [
        "# Define a threshold for underperforming\n",
        "profit_threshold = 50000\n",
        "\n",
        "# Filter countries with profits below the threshold\n",
        "underperforming_countries_df = global_df.filter(F.col(\"Total_Profit\") < profit_threshold)\n",
        "\n",
        "# Sort by Total_Profit in ascending order (lowest first)\n",
        "underperforming_countries_df = underperforming_countries_df.orderBy(F.col(\"Total_Profit\").asc())\n",
        "\n",
        "underperforming_countries_df.show(5)"
      ],
      "metadata": {
        "colab": {
          "base_uri": "https://localhost:8080/"
        },
        "id": "BALi8uWUAKWR",
        "outputId": "5891baab-467c-4a1c-97c0-9fb22c3963b6"
      },
      "execution_count": 38,
      "outputs": [
        {
          "output_type": "stream",
          "name": "stdout",
          "text": [
            "+------------------+-----------+---------+-------------+--------------+----------+---------+----------+----------+----------+---------+-------------+----------+------------+\n",
            "|            Region|    Country|Item_Type|Sales_Channel|Order_Priority|Order_Date| Order_ID| Ship_Date|Units_Sold|Unit_Price|Unit_Cost|Total_Revenue|Total_Cost|Total_Profit|\n",
            "+------------------+-----------+---------+-------------+--------------+----------+---------+----------+----------+----------+---------+-------------+----------+------------+\n",
            "|            Europe|     Poland|   Fruits|       Online|             C|2011-04-18|658217370|2011-05-19|         2|      9.33|     6.92|        18.66|     13.84|        4.82|\n",
            "|Sub-Saharan Africa|    Burundi|   Fruits|       Online|             M|2016-08-12|493579518|2016-09-01|         3|      9.33|     6.92|        27.99|     20.76|        7.23|\n",
            "|              Asia|North Korea|   Fruits|      Offline|             M|2016-06-03|572485387|2016-06-08|         3|      9.33|     6.92|        27.99|     20.76|        7.23|\n",
            "|Sub-Saharan Africa|   Zimbabwe|   Fruits|       Online|             M|2017-02-21|568024766|2017-03-06|         6|      9.33|     6.92|        55.98|     41.52|       14.46|\n",
            "|Sub-Saharan Africa|South Sudan|Beverages|       Online|             H|2015-02-25|724518573|2015-03-01|         1|     47.45|    31.79|        47.45|     31.79|       15.66|\n",
            "+------------------+-----------+---------+-------------+--------------+----------+---------+----------+----------+----------+---------+-------------+----------+------------+\n",
            "only showing top 5 rows\n",
            "\n"
          ]
        }
      ]
    },
    {
      "cell_type": "markdown",
      "source": [
        "## Sales Channel Revenue Comparison (Online vs OPffline)"
      ],
      "metadata": {
        "id": "Z87xSULtGPK-"
      }
    },
    {
      "cell_type": "code",
      "source": [
        "# Group by 'Sales_Channel' and sum the 'Revenue' for each channel\n",
        "sales_channel_revenue_df = global_df.groupBy(\"Sales_Channel\").agg(F.sum(\"Total_Revenue\").alias(\"Revenue_Generated\"))\n",
        "\n",
        "# Format the 'Revenue_Generated' to 2 decimal places\n",
        "sales_channel_revenue_df = sales_channel_revenue_df.withColumn(\"Revenue_Generated\", F.format_number(F.col(\"Revenue_Generated\"), 2))\n",
        "\n",
        "sales_channel_revenue_df.show()"
      ],
      "metadata": {
        "colab": {
          "base_uri": "https://localhost:8080/"
        },
        "id": "9muNyGE0CJ1H",
        "outputId": "d582f00f-9a62-480f-d201-09b0b37b5e69"
      },
      "execution_count": 34,
      "outputs": [
        {
          "output_type": "stream",
          "name": "stdout",
          "text": [
            "+-------------+-----------------+\n",
            "|Sales_Channel|Revenue_Generated|\n",
            "+-------------+-----------------+\n",
            "|       Online|66,856,341,348.55|\n",
            "|      Offline|66,750,331,717.86|\n",
            "+-------------+-----------------+\n",
            "\n"
          ]
        }
      ]
    }
  ]
}